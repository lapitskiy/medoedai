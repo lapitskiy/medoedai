{
  "cells": [
    {
      "cell_type": "markdown",
      "metadata": {},
      "source": [
        "# Анализ зависимости Q-values от P&L\n",
        "\n",
        "Этот ноутбук загружает пары сделок BUY→SELL c сервера (`/api/analysis/qvalues_vs_pnl`), строит распределения, калибровку и подбирает пороги T1/T2 для maxQ и gapQ, чтобы улучшить фильтрацию входов (Q-gate).\n",
        "\n",
        "- buy_max_q: максимум из q_values в момент BUY\n",
        "- buy_gap_q: разница между 1-й и 2-й по величине q_values (разрыв уверенности)\n",
        "- Метка успеха: win = pnl_abs > 0 (можно сменить порог на pnl_pct)\n",
        "\n"
      ]
    },
    {
      "cell_type": "code",
      "execution_count": null,
      "metadata": {},
      "outputs": [],
      "source": [
        "import os\n",
        "import json\n",
        "import math\n",
        "import numpy as np\n",
        "import pandas as pd\n",
        "import requests\n",
        "import matplotlib.pyplot as plt\n",
        "from sklearn.metrics import roc_curve, auc, precision_recall_curve\n",
        "\n",
        "BASE_URL = os.environ.get('MEDOED_BASE_URL', 'http://localhost:5050')\n",
        "SYMBOL = os.environ.get('ANALYSIS_SYMBOL', '')  # например 'BTCUSDT'\n",
        "LIMIT_TRADES = int(os.environ.get('ANALYSIS_LIMIT_TRADES', '400'))\n",
        "LIMIT_PREDS = int(os.environ.get('ANALYSIS_LIMIT_PREDS', '2000'))\n",
        "TOLERANCE = int(os.environ.get('ANALYSIS_TOLERANCE', '1'))\n",
        "\n",
        "params = {\n",
        "    'symbol': SYMBOL,\n",
        "    'limit_trades': LIMIT_TRADES,\n",
        "    'limit_predictions': LIMIT_PREDS,\n",
        "    'tolerance_buckets': TOLERANCE,\n",
        "}\n",
        "resp = requests.get(f\"{BASE_URL}/api/analysis/qvalues_vs_pnl\", params=params)\n",
        "resp.raise_for_status()\n",
        "js = resp.json()\n",
        "assert js.get('success'), js\n",
        "rows = js.get('rows', [])\n",
        "df = pd.DataFrame(rows)\n",
        "print(df.shape)\n",
        "df.head()\n"
      ]
    },
    {
      "cell_type": "code",
      "execution_count": null,
      "metadata": {},
      "outputs": [],
      "source": [
        "# Предобработка\n",
        "\n",
        "df['win'] = (df['pnl_abs'] > 0).astype(int)\n",
        "df['buy_max_q'] = pd.to_numeric(df['buy_max_q'], errors='coerce')\n",
        "df['buy_gap_q'] = pd.to_numeric(df['buy_gap_q'], errors='coerce')\n",
        "df = df.dropna(subset=['buy_max_q'])\n",
        "print('wins:', df['win'].sum(), 'losses:', (1 - df['win']).sum())\n",
        "df[['symbol','entry_time','exit_time','pnl_abs','buy_max_q','buy_gap_q','win']].head()\n"
      ]
    },
    {
      "cell_type": "code",
      "execution_count": null,
      "metadata": {},
      "outputs": [],
      "source": [
        "# Гистограммы распределений\n",
        "\n",
        "fig, axs = plt.subplots(1,2, figsize=(12,4))\n",
        "axs[0].hist(df[df.win==1]['buy_max_q'], bins=30, alpha=0.7, label='win')\n",
        "axs[0].hist(df[df.win==0]['buy_max_q'], bins=30, alpha=0.7, label='loss')\n",
        "axs[0].set_title('buy_max_q by class'); axs[0].legend()\n",
        "\n",
        "axs[1].hist(df[df.win==1]['buy_gap_q'].dropna(), bins=30, alpha=0.7, label='win')\n",
        "axs[1].hist(df[df.win==0]['buy_gap_q'].dropna(), bins=30, alpha=0.7, label='loss')\n",
        "axs[1].set_title('buy_gap_q by class'); axs[1].legend()\n",
        "plt.show()\n"
      ]
    },
    {
      "cell_type": "code",
      "execution_count": null,
      "metadata": {},
      "outputs": [],
      "source": [
        "# ROC/PR для buy_max_q как шкалы уверенности\n",
        "\n",
        "scores = df['buy_max_q'].values\n",
        "labels = df['win'].values\n",
        "fpr, tpr, thr = roc_curve(labels, scores)\n",
        "roc_auc = auc(fpr, tpr)\n",
        "prec, rec, thr_pr = precision_recall_curve(labels, scores)\n",
        "\n",
        "fig, axs = plt.subplots(1,2, figsize=(12,4))\n",
        "axs[0].plot(fpr, tpr, label=f'AUC={roc_auc:.3f}')\n",
        "axs[0].plot([0,1],[0,1],'--',color='gray')\n",
        "axs[0].set_title('ROC (buy_max_q)'); axs[0].legend()\n",
        "axs[0].set_xlabel('FPR'); axs[0].set_ylabel('TPR')\n",
        "axs[1].plot(rec, prec)\n",
        "axs[1].set_title('PR (buy_max_q)'); axs[1].set_xlabel('Recall'); axs[1].set_ylabel('Precision')\n",
        "plt.show()\n"
      ]
    },
    {
      "cell_type": "code",
      "execution_count": null,
      "metadata": {},
      "outputs": [],
      "source": [
        "# Калибровка: вероятность win по бинам buy_max_q\n",
        "\n",
        "bins = np.quantile(df['buy_max_q'], np.linspace(0,1,11))\n",
        "bins[0] = df['buy_max_q'].min() - 1e-9\n",
        "bins[-1] = df['buy_max_q'].max() + 1e-9\n",
        "labels_bins = pd.cut(df['buy_max_q'], bins=bins, include_lowest=True)\n",
        "calib = df.groupby(labels_bins)['win'].mean().reset_index()\n",
        "calib['mid'] = calib['buy_max_q'].apply(lambda x: x.mid)\n",
        "calib = calib.dropna(subset=['mid'])\n",
        "plt.figure(figsize=(6,4))\n",
        "plt.plot(calib['mid'], calib['win'], marker='o')\n",
        "plt.title('Калибровка: P(win) vs buy_max_q')\n",
        "plt.xlabel('buy_max_q'); plt.ylabel('P(win)')\n",
        "plt.grid(True)\n",
        "plt.show()\n",
        "calib\n"
      ]
    },
    {
      "cell_type": "code",
      "execution_count": null,
      "metadata": {},
      "outputs": [],
      "source": [
        "# Автоподбор T1/T2 по сетке\n",
        "\n",
        "best = None\n",
        "maxq_vals = np.quantile(df['buy_max_q'], np.linspace(0.2, 0.9, 15))\n",
        "gapq_vals = np.quantile(df['buy_gap_q'].dropna(), np.linspace(0.2, 0.9, 15)) if df['buy_gap_q'].notna().any() else [0.0]\n",
        "\n",
        "for t1 in maxq_vals:\n",
        "    for t2 in gapq_vals:\n",
        "        mask = (df['buy_max_q'] >= t1)\n",
        "        if df['buy_gap_q'].notna().any():\n",
        "            mask &= (df['buy_gap_q'] >= t2)\n",
        "        sub = df[mask]\n",
        "        if len(sub) < 20:\n",
        "            continue\n",
        "        hit = sub['win'].mean()\n",
        "        # простая метрика: precision на отобранных + объем выборки\n",
        "        score = hit * (len(sub) / max(1, len(df)))\n",
        "        if (best is None) or (score > best['score']):\n",
        "            best = {'T1': float(t1), 'T2': float(t2), 'hit_rate': float(hit), 'n': int(len(sub)), 'score': float(score)}\n",
        "\n",
        "best\n"
      ]
    },
    {
      "cell_type": "code",
      "execution_count": null,
      "metadata": {},
      "outputs": [],
      "source": [
        "# Экспорт найденных порогов в .env строку для агента\n",
        "\n",
        "if best:\n",
        "    print('Рекомендуемые пороги:')\n",
        "    print(best)\n",
        "    print('\\nДля запуска агента с фильтром:')\n",
        "    print(f\"QGATE_MAXQ={best['T1']:.6f} QGATE_GAPQ={best['T2']:.6f}\")\n",
        "else:\n",
        "    print('Недостаточно данных для подбора порогов')\n"
      ]
    }
  ],
  "metadata": {
    "language_info": {
      "name": "python"
    }
  },
  "nbformat": 4,
  "nbformat_minor": 2
}
